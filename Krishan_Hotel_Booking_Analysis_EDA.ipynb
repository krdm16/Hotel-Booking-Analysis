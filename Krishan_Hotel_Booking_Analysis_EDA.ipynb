{
  "nbformat": 4,
  "nbformat_minor": 0,
  "metadata": {
    "colab": {
      "private_outputs": true,
      "provenance": [],
      "collapsed_sections": [
        "gIfDvo9L0UH2"
      ]
    },
    "kernelspec": {
      "name": "python3",
      "display_name": "Python 3"
    },
    "language_info": {
      "name": "python"
    }
  },
  "cells": [
    {
      "cell_type": "markdown",
      "source": [
        "# **Project Name**    - Hotel Booking Analysis\n",
        "\n",
        "\n"
      ],
      "metadata": {
        "id": "vncDsAP0Gaoa"
      }
    },
    {
      "cell_type": "markdown",
      "source": [
        "##### **Project Type**    - EDA\n",
        "##### **Contribution**    - Individual\n",
        "##### **Team Member 1 -**  Krishan Kardam\n"
      ],
      "metadata": {
        "id": "beRrZCGUAJYm"
      }
    },
    {
      "cell_type": "markdown",
      "source": [
        "# **Project Summary -**"
      ],
      "metadata": {
        "id": "FJNUwmbgGyua"
      }
    },
    {
      "cell_type": "markdown",
      "source": [
        "The hotel booking dataset provided is a valuable resource for exploring various factors that influence hotel bookings and analysing patterns in the data. The dataset includes information on bookings made at a city hotel and a resort hotel, offering insights into when bookings are made, the length of stay, the number of guests (adults, children, and babies), and the availability of parking spaces, among other details. It is important to note that all personally identifying information has been removed from the dataset to ensure privacy. By delving into this dataset, we can uncover significant factors that\n",
        "govern hotel bookings. One area of interest could be identifying the best time of year to book a hotel room. By analyzing the booking timestamps and correlating them with the corresponding rates, patterns may emerge to reveal the optimal booking time for securing the most favorable prices.\n",
        "Another aspect to explore within the dataset is the relationship between the length of stay and the daily rate. By examining the data, one can assess whether longer stays are associated with discounted rates or if there are specific durations that offer better value for guests. This information can help individuals plan their trips more effectively and potentially save money on their hotel accommodations.\n",
        "This hotel booking project focuses on two types of hotels: City Hotel and Resort Hotel. The dataset contains 119,390 rows and 32 columns. The data manipulation workflow is divided into three categories: data collection, data cleaning and manipulation, and exploratory data analysis (EDA).\n",
        "\n",
        "In the data collection phase, various methods such as Head(), Tail(), Info(), Describe(), and Columns() are used to gather information about the dataset. Important columns like hotel, is_canceled, lead_time, arrival_date_year, arrival_date_month, and others are identified.\n",
        "\n",
        "Next, unique values for each column are examined and a tabular list is generated. Inaccurate data types are corrected during the data cleaning process. Duplicate data items, totaling 87,396, are identified and removed from the dataset.\n",
        "\n",
        "Before visualizing the data, data wrangling is performed. Null values in the columns are checked, and columns with a high number of null values are dropped using the 'drop' method. For columns with a minimal number of null values, the missing values are filled as necessary using the .fillna() method.\n",
        "\n",
        "Various charts are utilized for data visualization to gain better insights and achieve the project's business objectives.\n"
      ],
      "metadata": {
        "id": "F6v_1wHtG2nS"
      }
    },
    {
      "cell_type": "markdown",
      "source": [
        "# **GitHub Link -**"
      ],
      "metadata": {
        "id": "w6K7xa23Elo4"
      }
    },
    {
      "cell_type": "markdown",
      "source": [
        "https://github.com/krdm16/Hotel-Booking-Analysis"
      ],
      "metadata": {
        "id": "h1o69JH3Eqqn"
      }
    },
    {
      "cell_type": "markdown",
      "source": [
        "# **Problem Statement**\n"
      ],
      "metadata": {
        "id": "yQaldy8SH6Dl"
      }
    },
    {
      "cell_type": "markdown",
      "source": [
        "1.  What is the optimal time of year to book a hotel room?\n",
        "2.  Is there a relationship between the length of stay and the daily rates?\n",
        "3.  How can we predict the likelihood of receiving a disproportionately high number of special requests?\n",
        "4.  Can we identify trends indicating when special requests are more common?\n",
        "5.  What strategies can hotels employ to optimize their operations based on the analysis of booking data?"
      ],
      "metadata": {
        "id": "DpeJGUA3kjGy"
      }
    },
    {
      "cell_type": "markdown",
      "source": [
        "#### **Define Your Business Objective?**"
      ],
      "metadata": {
        "id": "PH-0ReGfmX4f"
      }
    },
    {
      "cell_type": "markdown",
      "source": [
        "*   Optimize revenue by identifying the best time to book for maximum profitability.\n",
        "*   Enhance guest satisfaction by predicting and accommodating special requests.\n",
        "*   Improve operational efficiency by analyzing booking patterns and guest demographics.\n",
        "*   Inform marketing and promotional strategies based on insights from the dataset.\n",
        "*   Conduct competitor analysis to benchmark performance and identify areas for improvement.\n"
      ],
      "metadata": {
        "id": "PhDvGCAqmjP1"
      }
    },
    {
      "cell_type": "markdown",
      "source": [
        "# **General Guidelines** : -  "
      ],
      "metadata": {
        "id": "mDgbUHAGgjLW"
      }
    },
    {
      "cell_type": "markdown",
      "source": [
        "1.   Well-structured, formatted, and commented code is required.\n",
        "2.   Exception Handling, Production Grade Code & Deployment Ready Code will be a plus. Those students will be awarded some additional credits.\n",
        "     \n",
        "     The additional credits will have advantages over other students during Star Student selection.\n",
        "       \n",
        "             [ Note: - Deployment Ready Code is defined as, the whole .ipynb notebook should be executable in one go\n",
        "                       without a single error logged. ]\n",
        "\n",
        "3.   Each and every logic should have proper comments.\n",
        "4. You may add as many number of charts you want. Make Sure for each and every chart the following format should be answered.\n",
        "        \n",
        "\n",
        "```\n",
        "# Chart visualization code\n",
        "```\n",
        "            \n",
        "\n",
        "*   Why did you pick the specific chart?\n",
        "*   What is/are the insight(s) found from the chart?\n",
        "* Will the gained insights help creating a positive business impact?\n",
        "Are there any insights that lead to negative growth? Justify with specific reason.\n",
        "\n",
        "5. You have to create at least 20 logical & meaningful charts having important insights.\n",
        "\n",
        "\n",
        "[ Hints : - Do the Vizualization in  a structured way while following \"UBM\" Rule.\n",
        "\n",
        "U - Univariate Analysis,\n",
        "\n",
        "B - Bivariate Analysis (Numerical - Categorical, Numerical - Numerical, Categorical - Categorical)\n",
        "\n",
        "M - Multivariate Analysis\n",
        " ]\n",
        "\n",
        "\n",
        "\n"
      ],
      "metadata": {
        "id": "ZrxVaUj-hHfC"
      }
    },
    {
      "cell_type": "markdown",
      "source": [
        "# ***Let's Begin !***"
      ],
      "metadata": {
        "id": "O_i_v8NEhb9l"
      }
    },
    {
      "cell_type": "markdown",
      "source": [
        "## ***1. Know Your Data***"
      ],
      "metadata": {
        "id": "HhfV-JJviCcP"
      }
    },
    {
      "cell_type": "markdown",
      "source": [
        "### Import Libraries"
      ],
      "metadata": {
        "id": "Y3lxredqlCYt"
      }
    },
    {
      "cell_type": "code",
      "source": [
        "# Import Libraries\n",
        "import pandas as pd\n",
        "import numpy as np\n",
        "import matplotlib.pyplot as plt\n",
        "import seaborn as sns"
      ],
      "metadata": {
        "id": "M8Vqi-pPk-HR"
      },
      "execution_count": null,
      "outputs": []
    },
    {
      "cell_type": "markdown",
      "source": [
        "### Dataset Loading"
      ],
      "metadata": {
        "id": "3RnN4peoiCZX"
      }
    },
    {
      "cell_type": "code",
      "source": [
        "# Load Dataset\n",
        "#First mounting google drive to copy dataset path\n",
        "from google.colab import drive\n",
        "drive.mount('/content/drive')"
      ],
      "metadata": {
        "id": "4CkvbW_SlZ_R"
      },
      "execution_count": null,
      "outputs": []
    },
    {
      "cell_type": "code",
      "source": [
        "#csv file path\n",
        "file_path=\"/content/drive/MyDrive/EDA/Hotel Bookings.csv\"\n",
        "#Loading dataset with help of pandas library\n",
        "df_hb=pd.read_csv(file_path)"
      ],
      "metadata": {
        "id": "KE4VTY710g6h"
      },
      "execution_count": null,
      "outputs": []
    },
    {
      "cell_type": "markdown",
      "source": [
        "### Dataset First View"
      ],
      "metadata": {
        "id": "x71ZqKXriCWQ"
      }
    },
    {
      "cell_type": "code",
      "source": [
        "# Dataset First Look\n",
        "df_hb"
      ],
      "metadata": {
        "id": "LWNFOSvLl09H"
      },
      "execution_count": null,
      "outputs": []
    },
    {
      "cell_type": "markdown",
      "source": [
        "### Dataset Rows & Columns count"
      ],
      "metadata": {
        "id": "7hBIi_osiCS2"
      }
    },
    {
      "cell_type": "code",
      "source": [
        "# Dataset Rows & Columns count\n",
        "#checking the shape ( rows and column numbers)\n",
        "print(f' We have total {df_hb.shape[0]} rows and {df_hb.shape[1]} columns.')"
      ],
      "metadata": {
        "id": "Kllu7SJgmLij"
      },
      "execution_count": null,
      "outputs": []
    },
    {
      "cell_type": "markdown",
      "source": [
        "### Dataset Information"
      ],
      "metadata": {
        "id": "JlHwYmJAmNHm"
      }
    },
    {
      "cell_type": "code",
      "source": [
        "# Dataset Info\n",
        "df_hb.info()"
      ],
      "metadata": {
        "id": "e9hRXRi6meOf"
      },
      "execution_count": null,
      "outputs": []
    },
    {
      "cell_type": "markdown",
      "source": [
        "**Data Description:**\n",
        "\n",
        "**hotel :** Hotel(Resort Hotel or City Hotel)\n",
        "\n",
        "**is_canceled :** Value indicating if the booking was canceled (1) or not (0)\n",
        "\n",
        "**lead_time :**Number of days that elapsed between the entering date of the booking into the PMS and the arrival date\n",
        "\n",
        "**arrival_date_year :** Year of arrival date\n",
        "\n",
        "**arrival_date_month :** Month of arrival date\n",
        "\n",
        "**arrival_date_week_number :** Week number of year for arrival date\n",
        "\n",
        "**arrival_date_day_of_month :** Day of arrival date\n",
        "\n",
        "**stays_in_weekend_nights :** Number of weekend nights (Saturday or Sunday) the guest stayed or booked to stay at the hotel\n",
        "\n",
        "**stays_in_week_nights :** Number of week nights (Monday to Friday) the guest stayed or booked to stay at the hotel\n",
        "\n",
        "**adults :** Number of adults\n",
        "\n",
        "**children :** Number of children\n",
        "\n",
        "**babies :** Number of babies\n",
        "\n",
        "**meal :** Type of meal booked. Categories are presented in standard hospitality meal packages:\n",
        "\n",
        "**country :** Country of origin.`\n",
        "\n",
        "**market_segment :** Market segment designation. In categories, the term “TA” means “Travel Agents” and “TO” means “Tour Operators”\n",
        "\n",
        "**distribution_channel :** Booking distribution channel. The term “TA” means “Travel Agents” and “TO” means “Tour Operators”\n",
        "\n",
        "**is_repeated_guest :** Value indicating if the booking name was from a repeated guest (1) or not (0)\n",
        "\n",
        "**previous_cancellations :** Number of previous bookings that were cancelled by the customer prior to the current booking\n",
        "\n",
        "**previous_bookings_not_canceled :** Number of previous bookings not cancelled by the customer prior to the current booking\n",
        "\n",
        "**reserved_room_type :** Code of room type reserved. Code is presented instead of designation for anonymity reasons.\n",
        "\n",
        "**assigned_room_type :** Code for the type of room assigned to the booking.\n",
        "\n",
        "**booking_changes :** Number of changes/amendments made to the booking from the moment the booking was entered on the PMS until the moment of check-in or cancellation\n",
        "\n",
        "**deposit_type :** Indication on if the customer made a deposit to guarantee the booking.\n",
        "\n",
        "**agent :** ID of the travel agency that made the booking\n",
        "\n",
        "**company :** ID of the company/entity that made the booking or responsible for paying the booking.\n",
        "\n",
        "**days_in_waiting_list :** Number of days the booking was in the waiting list before it was confirmed to the customer\n",
        "\n",
        "**customer_type :** Type of booking, assuming one of four categories\n",
        "\n",
        "**adr :** Average Daily Rate as defined by dividing the sum of all lodging transactions by the total number of staying nights\n",
        "\n",
        "**required_car_parking_spaces :** Number of car parking spaces required by the customer\n",
        "\n",
        "**total_of_special_requests :** Number of special requests made by the customer (e.g. twin bed or high floor)\n",
        "\n",
        "**reservation_status :** Reservation last status, assuming one of three categories\n",
        "\n",
        "* Canceled-booking was canceled by the customer\n",
        "* Check-Out-customer has checked in but already departed\n",
        "* No-Show-ustomer did not check-in and did inform the hotel of the reason why\n",
        "\n",
        "\n",
        "\n",
        "**reservation_status_date :** Date at which the last status was set. This variable can be used in conjunction with the ReservationStatus to understand when was the booking canceled or when did the customer checked-out of the hotel"
      ],
      "metadata": {
        "id": "mgEirYlz1gs5"
      }
    },
    {
      "cell_type": "markdown",
      "source": [
        "#### Duplicate Values"
      ],
      "metadata": {
        "id": "35m5QtbWiB9F"
      }
    },
    {
      "cell_type": "code",
      "source": [
        "# Dataset Duplicate Value Count\n",
        "print(f'The duplicate rows in data frame are {df_hb.duplicated().sum()}')"
      ],
      "metadata": {
        "id": "1sLdpKYkmox0"
      },
      "execution_count": null,
      "outputs": []
    },
    {
      "cell_type": "markdown",
      "source": [
        "#### Missing Values/Null Values"
      ],
      "metadata": {
        "id": "PoPl-ycgm1ru"
      }
    },
    {
      "cell_type": "code",
      "source": [
        "# Missing Values/Null Values Count\n",
        "df_hb.isnull().sum().sort_values(ascending=False)"
      ],
      "metadata": {
        "id": "GgHWkxvamxVg"
      },
      "execution_count": null,
      "outputs": []
    },
    {
      "cell_type": "markdown",
      "source": [
        "There are null values present in Four columns of the dataset.\n",
        "\n",
        "\n",
        "1.   children - 4\n",
        "2.   country - 488\n",
        "3.   agent  - 16340\n",
        "4.   company - 112593"
      ],
      "metadata": {
        "id": "6nTHkw3w17ar"
      }
    },
    {
      "cell_type": "code",
      "source": [
        "# Visualizing the missing values\n",
        "#visualize the null values in the columns is by using a heat map\n",
        "plt.figure(figsize=(8, 6))   # Set the figure size\n",
        "sns.heatmap(df_hb.isnull(),cmap=['yellow','black'],cbar=False)  # Plot the heatmap\n",
        "plt.title('Null Values Heat Map', color = 'blue')  # Set the title\n",
        "plt.show()"
      ],
      "metadata": {
        "id": "3q5wnI3om9sJ"
      },
      "execution_count": null,
      "outputs": []
    },
    {
      "cell_type": "markdown",
      "source": [
        "The resulting heat map will show a visual representation of the null values in the four columns of your dataset, with black cells representing null values and yellow cells representing non-null values."
      ],
      "metadata": {
        "id": "MLrppZTD2HHo"
      }
    },
    {
      "cell_type": "markdown",
      "source": [
        "### What did you know about your dataset?"
      ],
      "metadata": {
        "id": "H0kj-8xxnORC"
      }
    },
    {
      "cell_type": "markdown",
      "source": [
        "The dataset have 32 variables (Continuous and Categorical) with one identified dependent variable (categorical), which is 'is_cancelled.This data set contains a single file that compares various booking information between two hotels: a city hotel and a resort hotel."
      ],
      "metadata": {
        "id": "gfoNAAC-nUe_"
      }
    },
    {
      "cell_type": "markdown",
      "source": [
        "## ***2. Understanding Your Variables***"
      ],
      "metadata": {
        "id": "nA9Y7ga8ng1Z"
      }
    },
    {
      "cell_type": "code",
      "source": [
        "# Dataset Columns\n",
        "df_hb.columns   #shwoing name of columns"
      ],
      "metadata": {
        "id": "j7xfkqrt5Ag5"
      },
      "execution_count": null,
      "outputs": []
    },
    {
      "cell_type": "code",
      "source": [
        "# Dataset Describe\n",
        "df_hb.describe().T #the statistical aspects of the dataframes in Transpose format."
      ],
      "metadata": {
        "id": "DnOaZdaE5Q5t"
      },
      "execution_count": null,
      "outputs": []
    },
    {
      "cell_type": "markdown",
      "source": [
        "### Variables Description"
      ],
      "metadata": {
        "id": "PBTbrJXOngz2"
      }
    },
    {
      "cell_type": "markdown",
      "source": [
        "The dataset have 32 variables (Continuous and Categorical) with one identified dependent variable (categorical), which is 'is_cancelled.This data set contains a single file that compares various booking information between two hotels: a city hotel and a resort hotel."
      ],
      "metadata": {
        "id": "aJV4KIxSnxay"
      }
    },
    {
      "cell_type": "markdown",
      "source": [
        "### Check Unique Values for each variable."
      ],
      "metadata": {
        "id": "u3PMJOP6ngxN"
      }
    },
    {
      "cell_type": "code",
      "source": [
        "# Check Unique Values for each variable.\n",
        "# Iterate over each column in the DataFrame\n",
        "for column in df_hb.columns:\n",
        "    unique_values = df_hb[column].unique()  # Get unique values for the column\n",
        "    print(f\"Unique values for column '{column}':\")\n",
        "    print(unique_values)\n",
        "    print()"
      ],
      "metadata": {
        "id": "zms12Yq5n-jE"
      },
      "execution_count": null,
      "outputs": []
    },
    {
      "cell_type": "markdown",
      "source": [
        "## 3. ***Data Wrangling***"
      ],
      "metadata": {
        "id": "dauF4eBmngu3"
      }
    },
    {
      "cell_type": "markdown",
      "source": [
        "### Data Wrangling Code"
      ],
      "metadata": {
        "id": "bKJF3rekwFvQ"
      }
    },
    {
      "cell_type": "code",
      "source": [
        "# Write your code to make your dataset analysis ready.\n",
        "df_hb.drop_duplicates(inplace=True)   # Remove duplicate rows based on all columns"
      ],
      "metadata": {
        "id": "wk-9a2fpoLcV"
      },
      "execution_count": null,
      "outputs": []
    },
    {
      "cell_type": "code",
      "source": [
        "# we use the fillna() function to replace the NaN values in the 'Children' column with the calculated mean value.\n",
        "children_mean = df_hb['children'].mean() # Calculate the mean of the 'Children' column excluding NaN values\n",
        "df_hb['children'].fillna(children_mean, inplace=True)"
      ],
      "metadata": {
        "id": "c5ppRtqE2pLB"
      },
      "execution_count": null,
      "outputs": []
    },
    {
      "cell_type": "code",
      "source": [
        "#drop columns with high missing values.\n",
        "df_hb.drop(['agent','company'],axis=1,inplace=True)"
      ],
      "metadata": {
        "id": "vksOsX4u2sAz"
      },
      "execution_count": null,
      "outputs": []
    },
    {
      "cell_type": "code",
      "source": [
        "# Drop rows with missing values in the 'Country' column\n",
        "df_hb.dropna(subset=['country'], inplace=True)"
      ],
      "metadata": {
        "id": "yIDsuiTS2tw5"
      },
      "execution_count": null,
      "outputs": []
    },
    {
      "cell_type": "code",
      "source": [
        "#checking outliers from continous variables\n",
        "# Get the data types of each column\n",
        "data_types = df_hb.dtypes\n",
        "# Identify continuous variable columns\n",
        "continuous_columns = data_types[data_types.apply(lambda x: pd.api.types.is_numeric_dtype(x))].index\n",
        "# Create a box plot for each continuous variable column\n",
        "plt.figure(figsize=(16, 6))\n",
        "df_hb[continuous_columns].boxplot()\n",
        "plt.title('Box Plots for Continuous Variables')\n",
        "plt.ylabel('Value')\n",
        "plt.xticks(rotation=90)\n",
        "plt.show()"
      ],
      "metadata": {
        "id": "Tv1_Q8SM2vvi"
      },
      "execution_count": null,
      "outputs": []
    },
    {
      "cell_type": "markdown",
      "source": [
        "### What all manipulations have you done and insights you found?"
      ],
      "metadata": {
        "id": "MSa1f5Uengrz"
      }
    },
    {
      "cell_type": "markdown",
      "source": [
        "1. We use the fillna() function to replace the NaN values in the 'Children' column with the calculated mean value.\n",
        "2. Drop 'agent' column .\n",
        "3. Drop the 'Company' column .\n",
        "4. Drop NaN values in the 'Country' column.\n",
        "5. find outlier in column 'adr'."
      ],
      "metadata": {
        "id": "LbyXE7I1olp8"
      }
    },
    {
      "cell_type": "markdown",
      "source": [
        "## ***4. Data Vizualization, Storytelling & Experimenting with charts : Understand the relationships between variables***"
      ],
      "metadata": {
        "id": "GF8Ens_Soomf"
      }
    },
    {
      "cell_type": "markdown",
      "source": [
        "#### Chart - 1"
      ],
      "metadata": {
        "id": "0wOQAZs5pc--"
      }
    },
    {
      "cell_type": "code",
      "source": [
        "# Chart - 1 visualization code\n",
        "#booking according to hotel type\n",
        "hotel_counts = df_hb['hotel'].value_counts()\n",
        "plt.figure(figsize=(6, 6))\n",
        "plt.pie(hotel_counts,autopct='%1.1f%%',labels=hotel_counts.index,colors=['yellow','Grey'],startangle=90)\n",
        "plt.title('Distribution of Hotel Types')\n",
        "plt.axis('equal')\n",
        "plt.show()"
      ],
      "metadata": {
        "id": "7v_ESjsspbW7"
      },
      "execution_count": null,
      "outputs": []
    },
    {
      "cell_type": "markdown",
      "source": [
        "##### 1. Why did you pick the specific chart?"
      ],
      "metadata": {
        "id": "K5QZ13OEpz2H"
      }
    },
    {
      "cell_type": "markdown",
      "source": [
        "Pie charts are typically used to represent the composition of a whole by showing the proportion of different categories as slices of a pie."
      ],
      "metadata": {
        "id": "XESiWehPqBRc"
      }
    },
    {
      "cell_type": "markdown",
      "source": [
        "##### 2. What is/are the insight(s) found from the chart?"
      ],
      "metadata": {
        "id": "lQ7QKXXCp7Bj"
      }
    },
    {
      "cell_type": "markdown",
      "source": [
        "The booking in city hotel is 61.4% and 38.6% in resort hotel. we can conclude people prefer city hotels than resort hotels.Thus city hotels has maximum bookings."
      ],
      "metadata": {
        "id": "C_j1G7yiqdRP"
      }
    },
    {
      "cell_type": "markdown",
      "source": [
        "##### 3. Will the gained insights help creating a positive business impact?\n",
        "Are there any insights that lead to negative growth? Justify with specific reason."
      ],
      "metadata": {
        "id": "448CDAPjqfQr"
      }
    },
    {
      "cell_type": "markdown",
      "source": [
        "Yes, we can focus services on city hotel so that customer can easily access. we can invest more in city hotels. There is negative growth in resort hotels as there is less booking in compare to city hotels. we need to identify factor which leads to less booking in resort hotels."
      ],
      "metadata": {
        "id": "3cspy4FjqxJW"
      }
    },
    {
      "cell_type": "markdown",
      "source": [
        "#### Chart - 2"
      ],
      "metadata": {
        "id": "KSlN3yHqYklG"
      }
    },
    {
      "cell_type": "code",
      "source": [
        "#Chart - 2 visualization code\n",
        "# Select the variable for univariate analysis\n",
        "variable = 'adr'\n",
        "# Plot a histogram\n",
        "plt.figure(figsize=(10, 6))\n",
        "ax=sns.histplot(data=df_hb, x=variable, kde=True,palette='Set2', edgecolor='black')\n",
        "plt.title('Histogram of adr')\n",
        "plt.xlabel(variable)\n",
        "plt.ylabel('Count of Bookings')\n",
        "plt.xlim(0,400)\n",
        "\n",
        "plt.show()\n",
        "\n",
        "# Calculate descriptive statistics\n",
        "stats = df_hb[variable].describe()\n",
        "print(stats)"
      ],
      "metadata": {
        "id": "R4YgtaqtYklH"
      },
      "execution_count": null,
      "outputs": []
    },
    {
      "cell_type": "markdown",
      "source": [
        "##### 1. Why did you pick the specific chart?"
      ],
      "metadata": {
        "id": "t6dVpIINYklI"
      }
    },
    {
      "cell_type": "markdown",
      "source": [
        "A histogram allows you to observe the frequency or count of data points falling into different bins."
      ],
      "metadata": {
        "id": "5aaW0BYyYklI"
      }
    },
    {
      "cell_type": "markdown",
      "source": [
        "##### 2. What is/are the insight(s) found from the chart?"
      ],
      "metadata": {
        "id": "ijmpgYnKYklI"
      }
    },
    {
      "cell_type": "markdown",
      "source": [
        "It reveal maximum booking at adr of 100.it suggests that there is a significant number of bookings made at that particular rate.\n",
        "\n"
      ],
      "metadata": {
        "id": "PSx9atu2YklI"
      }
    },
    {
      "cell_type": "markdown",
      "source": [
        "##### 3. Will the gained insights help creating a positive business impact?\n",
        "Are there any insights that lead to negative growth? Justify with specific reason."
      ],
      "metadata": {
        "id": "-JiQyfWJYklI"
      }
    },
    {
      "cell_type": "markdown",
      "source": [
        " It indicates that the ADR of 100 attracts a considerable number of bookings, potentially indicating a best spot for pricing or demand in dataset."
      ],
      "metadata": {
        "id": "BcBbebzrYklV"
      }
    },
    {
      "cell_type": "markdown",
      "source": [
        "#### Chart - 3"
      ],
      "metadata": {
        "id": "EM7whBJCYoAo"
      }
    },
    {
      "cell_type": "code",
      "source": [
        "# Chart - 3 visualization code\n",
        "#TOP 10 countries by booking in percentage.\n",
        "top_10_countries=df_hb.country.value_counts(normalize=True).head(10)\n",
        "plt.figure(figsize=(10, 6))  # Adjust the figure size as per your preference\n",
        "sns.barplot(x=top_10_countries.index,y=top_10_countries.values, palette='Set2', edgecolor='black')\n",
        "plt.xlabel('Country')\n",
        "plt.ylabel('Booking Percentage')\n",
        "plt.title('Top 10 Countries by Booking Percentage')\n",
        "plt.xticks(rotation=45)\n",
        "plt.show()"
      ],
      "metadata": {
        "id": "t6GMdE67YoAp"
      },
      "execution_count": null,
      "outputs": []
    },
    {
      "cell_type": "markdown",
      "source": [
        "##### 1. Why did you pick the specific chart?"
      ],
      "metadata": {
        "id": "fge-S5ZAYoAp"
      }
    },
    {
      "cell_type": "markdown",
      "source": [
        "In the context of identifying the top 10 countries by booking percentage, a bar plot effectively showcases the comparison of booking percentages for each country. The length of the bars corresponds to the booking percentage, making it easy to compare and interpret the data."
      ],
      "metadata": {
        "id": "5dBItgRVYoAp"
      }
    },
    {
      "cell_type": "markdown",
      "source": [
        "##### 2. What is/are the insight(s) found from the chart?"
      ],
      "metadata": {
        "id": "85gYPyotYoAp"
      }
    },
    {
      "cell_type": "markdown",
      "source": [
        "Around 31.5% of all bookings were booked from Portugal followed by Great Britain(12%) & France(10%)."
      ],
      "metadata": {
        "id": "4jstXR6OYoAp"
      }
    },
    {
      "cell_type": "markdown",
      "source": [
        "##### 3. Will the gained insights help creating a positive business impact?\n",
        "Are there any insights that lead to negative growth? Justify with specific reason."
      ],
      "metadata": {
        "id": "RoGjAbkUYoAp"
      }
    },
    {
      "cell_type": "markdown",
      "source": [
        "They can allocate resources towards targeted advertising campaigns, partnerships with travel agents or online platforms in those countries, and localized promotional activities.\n",
        "\n",
        "if a significant portion of the hotel's bookings is concentrated in a few top countries, there is a risk of overreliance on those markets. Economic or political changes in those countries, natural disasters, or other unforeseen events can disrupt travel patterns, resulting in negative growth if bookings from those countries decline suddenly."
      ],
      "metadata": {
        "id": "zfJ8IqMcYoAp"
      }
    },
    {
      "cell_type": "markdown",
      "source": [
        "#### Chart - 4"
      ],
      "metadata": {
        "id": "4Of9eVA-YrdM"
      }
    },
    {
      "cell_type": "code",
      "source": [
        "# Chart - 4 visualization code\n",
        "#Booking by customer_type\n",
        "customer_type_booking=df_hb.customer_type.value_counts(normalize=True)\n",
        "# Adjust the figure size as per your preference\n",
        "plt.figure(figsize=(8, 6))\n",
        "sns.barplot(x=customer_type_booking.index,y=customer_type_booking.values, palette='Set2', edgecolor='black',width=0.3)\n",
        "plt.xlabel('Customer Type')\n",
        "plt.ylabel('Booking Percentage')\n",
        "plt.title('Booking Distribution by Customer Type')\n",
        "plt.show()"
      ],
      "metadata": {
        "id": "irlUoxc8YrdO"
      },
      "execution_count": null,
      "outputs": []
    },
    {
      "cell_type": "markdown",
      "source": [
        "1. Contract\n",
        "\n",
        "when the booking has an allotment or other type of contract associated to it.\n",
        "\n",
        "2. Group\n",
        "\n",
        "when the booking is associated to a group.\n",
        "\n",
        "3. Transient\n",
        "\n",
        "when the booking is not part of a group or contract, and is not associated to other transient booking.\n",
        "\n",
        "4. Transient-party\n",
        "\n",
        "when the booking is transient, but is associated to at least other transient booking."
      ],
      "metadata": {
        "id": "9OWroDql4tfJ"
      }
    },
    {
      "cell_type": "markdown",
      "source": [
        "##### 1. Why did you pick the specific chart?"
      ],
      "metadata": {
        "id": "iky9q4vBYrdO"
      }
    },
    {
      "cell_type": "markdown",
      "source": [
        "A bar chart is commonly used to compare categorical data, such as different customer types, and their corresponding numerical values, such as booking percentages."
      ],
      "metadata": {
        "id": "aJRCwT6DYrdO"
      }
    },
    {
      "cell_type": "markdown",
      "source": [
        "##### 2. What is/are the insight(s) found from the chart?"
      ],
      "metadata": {
        "id": "F6T5p64dYrdO"
      }
    },
    {
      "cell_type": "markdown",
      "source": [
        "Transient type of customers are the more around 80%.Percentage of Booking associated by the Group is vey low."
      ],
      "metadata": {
        "id": "Xx8WAJvtYrdO"
      }
    },
    {
      "cell_type": "markdown",
      "source": [
        "##### 3. Will the gained insights help creating a positive business impact?\n",
        "Are there any insights that lead to negative growth? Justify with specific reason."
      ],
      "metadata": {
        "id": "y-Ehk30pYrdP"
      }
    },
    {
      "cell_type": "markdown",
      "source": [
        "Insights into the booking distribution by customer type enable hotels to provide personalized services and experiences to different customer segments. Understanding the booking distribution by customer type can inform revenue management strategies.\n",
        "\n",
        "The decline in bookings from that group customer type could lead to negative growth.Hotels should focus on diversifying their customer base and expanding their reach to mitigate the risk associated with overdependence on a single customer segment."
      ],
      "metadata": {
        "id": "jLNxxz7MYrdP"
      }
    },
    {
      "cell_type": "markdown",
      "source": [
        "#### Chart - 5"
      ],
      "metadata": {
        "id": "bamQiAODYuh1"
      }
    },
    {
      "cell_type": "code",
      "source": [
        "# Chart - 5 visualization code\n",
        "#most ordered meal by customers\n",
        "most_meal = df_hb.meal.value_counts(normalize=True)\n",
        "# Adjust the figure size as per your preference\n",
        "plt.figure(figsize=(8, 6))\n",
        "sns.barplot(x=most_meal.index,y=most_meal.values, palette='Set2', edgecolor='black',width=0.3)  #bar plot according to meal type\n",
        "plt.xlabel('Meal Type')\n",
        "plt.ylabel('Ordered Meal Percentage')\n",
        "plt.title('Ordered Meal by Customers')\n",
        "plt.show()"
      ],
      "metadata": {
        "id": "TIJwrbroYuh3"
      },
      "execution_count": null,
      "outputs": []
    },
    {
      "cell_type": "markdown",
      "source": [
        "##### 1. Why did you pick the specific chart?"
      ],
      "metadata": {
        "id": "QHF8YVU7Yuh3"
      }
    },
    {
      "cell_type": "markdown",
      "source": [
        "In the context of visualizing the most ordered meal by customers, a bar plot effectively presents the comparison of meal percentage. Each bar represents a meal, allowing for easy comparison of the percentage of orders. The length of the bars corresponds to the percentage, making it simple to interpret the data."
      ],
      "metadata": {
        "id": "dcxuIMRPYuh3"
      }
    },
    {
      "cell_type": "markdown",
      "source": [
        "##### 2. What is/are the insight(s) found from the chart?"
      ],
      "metadata": {
        "id": "GwzvFGzlYuh3"
      }
    },
    {
      "cell_type": "markdown",
      "source": [
        "Out of the meals, BB (Bed & Breakfast) is the most ordered meal which is around 78%, followed by HB(Half Board), SC(no meal package), Undefined and FB (Full Board)."
      ],
      "metadata": {
        "id": "uyqkiB8YYuh3"
      }
    },
    {
      "cell_type": "markdown",
      "source": [
        "##### 3. Will the gained insights help creating a positive business impact?\n",
        "Are there any insights that lead to negative growth? Justify with specific reason."
      ],
      "metadata": {
        "id": "qYpmQ266Yuh3"
      }
    },
    {
      "cell_type": "markdown",
      "source": [
        "The high percentage of orders for the Bed & Breakfast meal suggests that guests prefer a package that includes breakfast as part of their accommodation. This insight can be valuable for hotels to prioritize their breakfast offerings and ensure that it meets the expectations of guests. No there is no lead to negative growth."
      ],
      "metadata": {
        "id": "_WtzZ_hCYuh4"
      }
    },
    {
      "cell_type": "markdown",
      "source": [
        "#### Chart - 6"
      ],
      "metadata": {
        "id": "OH-pJp9IphqM"
      }
    },
    {
      "cell_type": "code",
      "source": [
        "# Chart - 6 visualization code\n",
        "#market segment\n",
        "market_segment=df_hb.market_segment.value_counts(normalize=True)\n",
        "# Adjust the figure size as per your preference\n",
        "plt.figure(figsize=(8, 6))\n",
        "\n",
        "# Create a bar plot for market segment distribution\n",
        "sns.barplot(x=market_segment.index, y=market_segment.values, palette='Set2', edgecolor='black')\n",
        "\n",
        "# Set labels and title\n",
        "plt.xlabel('Market Segment')\n",
        "plt.ylabel('Percentage of Market Segment')\n",
        "plt.title('Distribution of Market Segments')\n",
        "# Rotate x-axis labels for better readability (optional)\n",
        "plt.xticks(rotation=30)\n",
        "\n",
        "# Display the plot\n",
        "plt.show()"
      ],
      "metadata": {
        "id": "kuRf4wtuphqN"
      },
      "execution_count": null,
      "outputs": []
    },
    {
      "cell_type": "markdown",
      "source": [
        "##### 1. Why did you pick the specific chart?"
      ],
      "metadata": {
        "id": "bbFf2-_FphqN"
      }
    },
    {
      "cell_type": "markdown",
      "source": [
        " It provides a clear visual representation of the proportion or frequency of each category, allowing for easy comparison between different segments."
      ],
      "metadata": {
        "id": "loh7H2nzphqN"
      }
    },
    {
      "cell_type": "markdown",
      "source": [
        "##### 2. What is/are the insight(s) found from the chart?"
      ],
      "metadata": {
        "id": "_ouA3fa0phqN"
      }
    },
    {
      "cell_type": "markdown",
      "source": [
        "Around 60% of bookings are made via Online Travel Agents, almost 16% of bookings are made via Offline Travel Agents and less than 15% are Direct bookings without any other agents."
      ],
      "metadata": {
        "id": "VECbqPI7phqN"
      }
    },
    {
      "cell_type": "markdown",
      "source": [
        "##### 3. Will the gained insights help creating a positive business impact?\n",
        "Are there any insights that lead to negative growth? Justify with specific reason."
      ],
      "metadata": {
        "id": "Seke61FWphqN"
      }
    },
    {
      "cell_type": "markdown",
      "source": [
        "Analyzing booking patterns and guest demographics allows hotels to optimize operations. No, there is no lead to negative growth."
      ],
      "metadata": {
        "id": "DW4_bGpfphqN"
      }
    },
    {
      "cell_type": "markdown",
      "source": [
        "#### Chart - 7"
      ],
      "metadata": {
        "id": "PIIx-8_IphqN"
      }
    },
    {
      "cell_type": "code",
      "source": [
        "# Chart - 7 visualization code\n",
        "# repeated guest=1\n",
        "#guest is repeated\n",
        "# Plot the countplot\n",
        "plt.figure(figsize=(8, 6))\n",
        "ax = sns.countplot(data=df_hb, x='is_repeated_guest', width=0.3, palette='Set2', edgecolor='black')\n",
        "ax.set_title('Graph showing whether guest is a repeated guest')\n",
        "\n",
        "# Add count labels to each bin\n",
        "for p in ax.patches:\n",
        "    ax.annotate(f'{p.get_height()}', (p.get_x() + p.get_width() / 2., p.get_height()),\n",
        "                ha='center', va='center', xytext=(0, 5), textcoords='offset points')\n",
        "\n",
        "# Show the plot\n",
        "plt.show()\n"
      ],
      "metadata": {
        "id": "lqAIGUfyphqO"
      },
      "execution_count": null,
      "outputs": []
    },
    {
      "cell_type": "markdown",
      "source": [
        "##### 1. Why did you pick the specific chart?"
      ],
      "metadata": {
        "id": "t27r6nlMphqO"
      }
    },
    {
      "cell_type": "markdown",
      "source": [
        "A count plot is suitable for displaying the distribution or count of categorical data, where each category is represented by a separate bar. It shows the number of occurrences of each category in a dataset, providing a clear visual representation of the frequency or count."
      ],
      "metadata": {
        "id": "iv6ro40sphqO"
      }
    },
    {
      "cell_type": "markdown",
      "source": [
        "##### 2. What is/are the insight(s) found from the chart?"
      ],
      "metadata": {
        "id": "r2jJGEOYphqO"
      }
    },
    {
      "cell_type": "markdown",
      "source": [
        "3411 is only repeated guest.Low number of repeated guests."
      ],
      "metadata": {
        "id": "Po6ZPi4hphqO"
      }
    },
    {
      "cell_type": "markdown",
      "source": [
        "##### 3. Will the gained insights help creating a positive business impact?\n",
        "Are there any insights that lead to negative growth? Justify with specific reason."
      ],
      "metadata": {
        "id": "b0JNsNcRphqO"
      }
    },
    {
      "cell_type": "markdown",
      "source": [
        "Yes, There is need to target repeated guests since they have booked before."
      ],
      "metadata": {
        "id": "xvSq8iUTphqO"
      }
    },
    {
      "cell_type": "markdown",
      "source": [
        "#### Chart - 8"
      ],
      "metadata": {
        "id": "BZR9WyysphqO"
      }
    },
    {
      "cell_type": "code",
      "source": [
        "# Chart - 8 visualization code\n",
        "# groupby arrival_date_month and taking the hotel count\n",
        "bookings_by_months_df=df_hb.groupby(['arrival_date_month'])['hotel'].count().reset_index().rename(columns={'hotel':\"Counts\"})\n",
        "# Create list of months in order\n",
        "months = ['January', 'February', 'March', 'April', 'May', 'June', 'July', 'August', 'September', 'October', 'November', 'December']\n",
        "# creating df which will map the order of above months list without changing its values.\n",
        "bookings_by_months_df['arrival_date_month']=pd.Categorical(bookings_by_months_df['arrival_date_month'],categories=months,ordered=True)\n",
        "# sorting by arrival_date_month\n",
        "bookings_by_months_df=bookings_by_months_df.sort_values('arrival_date_month')\n",
        "\n",
        "bookings_by_months_df"
      ],
      "metadata": {
        "id": "TdPTWpAVphqO"
      },
      "execution_count": null,
      "outputs": []
    },
    {
      "cell_type": "code",
      "source": [
        "# set plot size\n",
        "plt.figure(figsize=(12,6))\n",
        "\n",
        "#pltting lineplot on x- months & y- booking counts\n",
        "sns.lineplot(x=bookings_by_months_df['arrival_date_month'],y=bookings_by_months_df['Counts'])\n",
        "\n",
        "# set title for the plot\n",
        "plt.title('Number of bookings across each month')\n",
        "#set x label\n",
        "plt.xlabel('Month')\n",
        "#set y label\n",
        "plt.ylabel('Number of bookings')"
      ],
      "metadata": {
        "id": "DK_Ghqo5_REQ"
      },
      "execution_count": null,
      "outputs": []
    },
    {
      "cell_type": "markdown",
      "source": [
        "##### 1. Why did you pick the specific chart?"
      ],
      "metadata": {
        "id": "jj7wYXLtphqO"
      }
    },
    {
      "cell_type": "markdown",
      "source": [
        "we are examining the number of bookings across each month, which represents a chronological sequence. A line plot effectively displays the trend and variations in the data as it progresses over time"
      ],
      "metadata": {
        "id": "Ob8u6rCTphqO"
      }
    },
    {
      "cell_type": "markdown",
      "source": [
        "##### 2. What is/are the insight(s) found from the chart?"
      ],
      "metadata": {
        "id": "eZrbJ2SmphqO"
      }
    },
    {
      "cell_type": "markdown",
      "source": [
        "July and August months had the most Bookings."
      ],
      "metadata": {
        "id": "mZtgC_hjphqO"
      }
    },
    {
      "cell_type": "markdown",
      "source": [
        "##### 3. Will the gained insights help creating a positive business impact?\n",
        "Are there any insights that lead to negative growth? Justify with specific reason."
      ],
      "metadata": {
        "id": "rFu4xreNphqO"
      }
    },
    {
      "cell_type": "markdown",
      "source": [
        "July and August months had the most Bookings.Summer vaccation can be the reason for the bookings.This information allows for better forecasting and resource allocation. It helps hotels optimize their staffing levels, inventory management, and pricing strategies to meet the anticipated demand, thereby maximizing revenue and improving operational efficiency."
      ],
      "metadata": {
        "id": "ey_0qi68phqO"
      }
    },
    {
      "cell_type": "markdown",
      "source": [
        "#### Chart - 9"
      ],
      "metadata": {
        "id": "YJ55k-q6phqO"
      }
    },
    {
      "cell_type": "code",
      "source": [
        "# Chart - 9 visualization code\n",
        "# Calculate the cancellation counts by hotel type\n",
        "cancellation_counts = df_hb[df_hb['is_canceled'] == 1]['hotel'].value_counts()\n",
        "\n",
        "# Calculate the total cancellations\n",
        "total_cancellations = cancellation_counts.sum()\n",
        "\n",
        "# Calculate the cancellation percentages\n",
        "cancellation_percentages = cancellation_counts / total_cancellations * 100\n",
        "\n",
        "# Set the labels and explode for the pie chart\n",
        "labels = cancellation_percentages.index\n",
        "explode = (0.1, 0)  # To create a slight separation for one of the slices\n",
        "\n",
        "# Create the pie chart\n",
        "plt.pie(cancellation_percentages, labels=labels, explode=explode, autopct='%1.1f%%', startangle=90)\n",
        "\n",
        "# Set the title\n",
        "plt.title('Cancellation Percentage by Hotel Type')\n",
        "\n",
        "# Display the chart\n",
        "plt.show()\n"
      ],
      "metadata": {
        "id": "B2aS4O1ophqO"
      },
      "execution_count": null,
      "outputs": []
    },
    {
      "cell_type": "markdown",
      "source": [
        "##### 1. Why did you pick the specific chart?"
      ],
      "metadata": {
        "id": "gCFgpxoyphqP"
      }
    },
    {
      "cell_type": "markdown",
      "source": [
        "A pie chart is an effective visual representation when comparing parts to the whole. In this case, the cancellation percentages for each hotel type are compared to the total cancellations."
      ],
      "metadata": {
        "id": "TVxDimi2phqP"
      }
    },
    {
      "cell_type": "markdown",
      "source": [
        "##### 2. What is/are the insight(s) found from the chart?"
      ],
      "metadata": {
        "id": "OVtJsKN_phqQ"
      }
    },
    {
      "cell_type": "markdown",
      "source": [
        "74.9% booking canceled in city hotel."
      ],
      "metadata": {
        "id": "ngGi97qjphqQ"
      }
    },
    {
      "cell_type": "markdown",
      "source": [
        "##### 3. Will the gained insights help creating a positive business impact?\n",
        "Are there any insights that lead to negative growth? Justify with specific reason."
      ],
      "metadata": {
        "id": "lssrdh5qphqQ"
      }
    },
    {
      "cell_type": "markdown",
      "source": [
        "we need to focus on city hotels as there is very high number of cancel booking.Guests may perceive high cancellation rates as a sign of instability or poor service quality. Excessive cancellations can result in revenue loss for hotels, especially if they rely heavily on advanced bookings and non-refundable rates.\n"
      ],
      "metadata": {
        "id": "tBpY5ekJphqQ"
      }
    },
    {
      "cell_type": "markdown",
      "source": [
        "#### Chart - 10"
      ],
      "metadata": {
        "id": "U2RJ9gkRphqQ"
      }
    },
    {
      "cell_type": "code",
      "source": [
        "# Chart - 10 visualization code\n",
        "#deposit_type according to hotel type\n",
        "plt.figure(figsize=(10, 5))\n",
        "sns.countplot(data=df_hb, x='deposit_type', hue='hotel', palette='Set2', edgecolor='black',width=0.3)\n",
        "plt.title('Types of Deposit Type')\n",
        "plt.xlabel('Deposit Type')\n",
        "plt.ylabel('Counts of Deposits')\n",
        "plt.show()"
      ],
      "metadata": {
        "id": "GM7a4YP4phqQ"
      },
      "execution_count": null,
      "outputs": []
    },
    {
      "cell_type": "markdown",
      "source": [
        "##### 1. Why did you pick the specific chart?"
      ],
      "metadata": {
        "id": "1M8mcRywphqQ"
      }
    },
    {
      "cell_type": "markdown",
      "source": [
        "This countplot shows all type of deposits with two types of hotel and their respective booking counts."
      ],
      "metadata": {
        "id": "8agQvks0phqQ"
      }
    },
    {
      "cell_type": "markdown",
      "source": [
        "##### 2. What is/are the insight(s) found from the chart?"
      ],
      "metadata": {
        "id": "tgIPom80phqQ"
      }
    },
    {
      "cell_type": "markdown",
      "source": [
        "There was no deposit for City hotel where as Resorts had some deposits. No deposit may lead to cancel the bookings."
      ],
      "metadata": {
        "id": "Qp13pnNzphqQ"
      }
    },
    {
      "cell_type": "markdown",
      "source": [
        "##### 3. Will the gained insights help creating a positive business impact?\n",
        "Are there any insights that lead to negative growth? Justify with specific reason."
      ],
      "metadata": {
        "id": "JMzcOPDDphqR"
      }
    },
    {
      "cell_type": "markdown",
      "source": [
        "Yes, we need to focused on customer need in city hotel as there is no deposit. yes, No deposit may lead to cancel the bookings."
      ],
      "metadata": {
        "id": "R4Ka1PC2phqR"
      }
    },
    {
      "cell_type": "markdown",
      "source": [
        "#### Chart - 11"
      ],
      "metadata": {
        "id": "x-EpHcCOp1ci"
      }
    },
    {
      "cell_type": "code",
      "source": [
        "# Chart - 11 visualization code\n",
        "#grouping by hotel adr\n",
        "highest_adr=df_hb.groupby('hotel')['adr'].mean().reset_index()\n",
        "\n",
        "#set plot size\n",
        "plt.figure(figsize=(6,4))\n",
        "\n",
        "#plot the graph\n",
        "sns.barplot(x=highest_adr.hotel,y=highest_adr.adr,palette='Set2', edgecolor='black',width=0.3)\n",
        "\n",
        "# set labels\n",
        "plt.xlabel('Hotel type')\n",
        "plt.ylabel('ADR')\n",
        "plt.title(\"Avg ADR of each Hotel type\")"
      ],
      "metadata": {
        "id": "mAQTIvtqp1cj"
      },
      "execution_count": null,
      "outputs": []
    },
    {
      "cell_type": "markdown",
      "source": [
        "##### 1. Why did you pick the specific chart?"
      ],
      "metadata": {
        "id": "X_VqEhTip1ck"
      }
    },
    {
      "cell_type": "markdown",
      "source": [
        "A bar plot allows for a clear visual comparison of the average ADR values between different hotel types."
      ],
      "metadata": {
        "id": "-vsMzt_np1ck"
      }
    },
    {
      "cell_type": "markdown",
      "source": [
        "##### 2. What is/are the insight(s) found from the chart?"
      ],
      "metadata": {
        "id": "8zGJKyg5p1ck"
      }
    },
    {
      "cell_type": "markdown",
      "source": [
        "City hotel has the highest ADR. That means city hotels are generating more revenues than the resort hotels. More the ADR more is the revenue."
      ],
      "metadata": {
        "id": "ZYdMsrqVp1ck"
      }
    },
    {
      "cell_type": "markdown",
      "source": [
        "##### 3. Will the gained insights help creating a positive business impact?\n",
        "Are there any insights that lead to negative growth? Justify with specific reason."
      ],
      "metadata": {
        "id": "PVzmfK_Ep1ck"
      }
    },
    {
      "cell_type": "markdown",
      "source": [
        "As city hotels has more ADR so they are generating more revenue. other hand rosort hotel has less ADR i.e. they are generating less revenue. we need to focus on resort hotel to increase revenue by optimizing services."
      ],
      "metadata": {
        "id": "druuKYZpp1ck"
      }
    },
    {
      "cell_type": "markdown",
      "source": [
        "#### Chart - 12"
      ],
      "metadata": {
        "id": "n3dbpmDWp1ck"
      }
    },
    {
      "cell_type": "code",
      "source": [
        "# Chart - 12 visualization code\n",
        "# Calculate the average ADR by month\n",
        "#groupby\n",
        "bookings_by_months_df=df_hb.groupby(['arrival_date_month','hotel'])['adr'].mean().reset_index()\n",
        "#create month list\n",
        "months = ['January', 'February', 'March', 'April', 'May', 'June', 'July', 'August', 'September', 'October', 'November', 'December']\n",
        "# it will take the order of the month list in the df along with values\n",
        "bookings_by_months_df['arrival_date_month']=pd.Categorical(bookings_by_months_df['arrival_date_month'],categories=months,ordered=True)\n",
        "#sorting\n",
        "bookings_by_months_df=bookings_by_months_df.sort_values('arrival_date_month')\n",
        "\n",
        "# set plot size and plot the line\n",
        "plt.figure(figsize=(10,4))\n",
        "sns.lineplot(x=bookings_by_months_df['arrival_date_month'],y=bookings_by_months_df['adr'],hue=bookings_by_months_df['hotel'],marker='o')\n",
        "\n",
        "# set lables\n",
        "plt.title('ADR across each month')\n",
        "plt.xlabel('Month')\n",
        "plt.ylabel('ADR')"
      ],
      "metadata": {
        "id": "bwevp1tKp1ck"
      },
      "execution_count": null,
      "outputs": []
    },
    {
      "cell_type": "markdown",
      "source": [
        "##### 1. Why did you pick the specific chart?"
      ],
      "metadata": {
        "id": "ylSl6qgtp1ck"
      }
    },
    {
      "cell_type": "markdown",
      "source": [
        "A line plot is effective for visualizing trends over time. In this case, the x-axis represents the months, and the y-axis represents the ADR.Line plots are best suited for representing continuous data."
      ],
      "metadata": {
        "id": "m2xqNkiQp1ck"
      }
    },
    {
      "cell_type": "markdown",
      "source": [
        "##### 2. What is/are the insight(s) found from the chart?"
      ],
      "metadata": {
        "id": "ZWILFDl5p1ck"
      }
    },
    {
      "cell_type": "markdown",
      "source": [
        "For Resrot hotel is ADR is high in the months June,July,August as compared to City Hotels. May be Customers/People wants to spend their Summer vaccation in Resorts Hotels.\n",
        "\n",
        "The best time for guests to visit Resort or City hotels is January, February, March, April,October, November and December as the avrage daily rate in this month is very low."
      ],
      "metadata": {
        "id": "x-lUsV2mp1ck"
      }
    },
    {
      "cell_type": "markdown",
      "source": [
        "##### 3. Will the gained insights help creating a positive business impact?\n",
        "Are there any insights that lead to negative growth? Justify with specific reason."
      ],
      "metadata": {
        "id": "M7G43BXep1ck"
      }
    },
    {
      "cell_type": "markdown",
      "source": [
        "By adjusting rates during peak seasons when ADR is higher, hotels can maximize revenue and capture the increased demand.Hotels can tailor their messaging and offers to align with the identified periods of lower ADR, attracting more guests and driving occupancy. Special packages or incentives can be designed to entice visitors during these months.\n",
        "\n",
        "Relying heavily on peak seasons with higher ADR may lead to challenges during off-peak periods. If hotels solely focus on maximizing revenue during the identified busy months, they may face lower occupancy and revenue during other times."
      ],
      "metadata": {
        "id": "5wwDJXsLp1cl"
      }
    },
    {
      "cell_type": "markdown",
      "source": [
        "#### Chart - 13"
      ],
      "metadata": {
        "id": "Ag9LCva-p1cl"
      }
    },
    {
      "cell_type": "code",
      "source": [
        "# Chart - 13 visualization code\n",
        "# Create a scatter plot\n",
        "#Relationship between Length of Stay and Daily Rates\n",
        "plt.figure(figsize=(8, 6))\n",
        "plt.scatter(df_hb['stays_in_weekend_nights'] + df_hb['stays_in_week_nights'], df_hb['adr'], alpha=0.5)\n",
        "\n",
        "# Set labels and title\n",
        "plt.xlabel('Length of Stay')\n",
        "plt.ylabel('Daily Rate (ADR)')\n",
        "plt.title('Relationship between Length of Stay and Daily Rates')\n",
        "\n",
        "# Display the plot\n",
        "plt.show()\n"
      ],
      "metadata": {
        "id": "EUfxeq9-p1cl"
      },
      "execution_count": null,
      "outputs": []
    },
    {
      "cell_type": "markdown",
      "source": [
        "##### 1. Why did you pick the specific chart?"
      ],
      "metadata": {
        "id": "E6MkPsBcp1cl"
      }
    },
    {
      "cell_type": "markdown",
      "source": [
        "Scatter plots also help in assessing the distribution of data points across the graph. The scatter of points provides information about the spread and concentration of data, aiding in the identification of any potential trends or relationships."
      ],
      "metadata": {
        "id": "V22bRsFWp1cl"
      }
    },
    {
      "cell_type": "markdown",
      "source": [
        "##### 2. What is/are the insight(s) found from the chart?"
      ],
      "metadata": {
        "id": "2cELzS2fp1cl"
      }
    },
    {
      "cell_type": "markdown",
      "source": [
        "we can see most of daily rates under 800 are from 1 to 30 days."
      ],
      "metadata": {
        "id": "ozQPc2_Ip1cl"
      }
    },
    {
      "cell_type": "markdown",
      "source": [
        "##### 3. Will the gained insights help creating a positive business impact?\n",
        "Are there any insights that lead to negative growth? Justify with specific reason."
      ],
      "metadata": {
        "id": "3MPXvC8up1cl"
      }
    },
    {
      "cell_type": "markdown",
      "source": [
        "hotels can strategically adjust their pricing strategies based on the length of stay.This allows for targeted pricing decisions that can maximize revenue by offering competitive rates for longer stays or implementing pricing tiers based on the duration of the guest's stay."
      ],
      "metadata": {
        "id": "GL8l1tdLp1cl"
      }
    },
    {
      "cell_type": "markdown",
      "source": [
        "#### Chart - 14"
      ],
      "metadata": {
        "id": "O84JPCmP7qXN"
      }
    },
    {
      "cell_type": "code",
      "source": [
        "# Chart - 14 visualization code\n",
        "#Trends in Special Requests by Month\n",
        "# Group the data by a specific column (e.g., date or month) and calculate the count of special requests\n",
        "# Filter the dataset for relevant columns\n",
        "df_requests = df_hb[['hotel', 'arrival_date_month', 'total_of_special_requests']]\n",
        "\n",
        "# Group the data by hotel and month and calculate the count of special requests\n",
        "grouped_requests = df_requests.groupby(['hotel', 'arrival_date_month']).count().reset_index()\n",
        "\n",
        "# Plot the line chart\n",
        "plt.figure(figsize=(12, 6))\n",
        "sns.lineplot(x='arrival_date_month', y='total_of_special_requests', hue='hotel', data=grouped_requests)\n",
        "\n",
        "# Set labels and title\n",
        "plt.xlabel('Month')\n",
        "plt.ylabel('Special Requests')\n",
        "plt.title('Trends in Special Requests by Month')\n",
        "\n",
        "# Show the plot\n",
        "plt.show()"
      ],
      "metadata": {
        "id": "B799kxtK7qXP"
      },
      "execution_count": null,
      "outputs": []
    },
    {
      "cell_type": "markdown",
      "source": [
        "##### 1. Why did you pick the specific chart?"
      ],
      "metadata": {
        "id": "1tOOBCdY7qXQ"
      }
    },
    {
      "cell_type": "markdown",
      "source": [
        "A line plot is particularly suitable when you want to analyze data trends over time. It allows for the visualization of how a variable (in this case, the number of special requests) changes over a continuous scale, such as dates week number."
      ],
      "metadata": {
        "id": "BGRlDYLj7qXR"
      }
    },
    {
      "cell_type": "markdown",
      "source": [
        "##### 2. What is/are the insight(s) found from the chart?"
      ],
      "metadata": {
        "id": "KUS-rxnk7qXS"
      }
    },
    {
      "cell_type": "markdown",
      "source": [
        "we can see most of special request are in month of August and less in january for both hotels. also we can analyze city hotel has more request."
      ],
      "metadata": {
        "id": "lC2RdH_a7qXT"
      }
    },
    {
      "cell_type": "markdown",
      "source": [
        "##### 3. Will the gained insights help creating a positive business impact?\n",
        "Are there any insights that lead to negative growth? Justify with specific reason."
      ],
      "metadata": {
        "id": "_PmlQf3J7qXT"
      }
    },
    {
      "cell_type": "markdown",
      "source": [
        "hotels can strategically adjust their pricing strategies based on the length of stay.This allows for targeted pricing decisions that can maximize revenue by offering competitive rates for longer stays or implementing pricing tiers based on the duration of the guest's stay."
      ],
      "metadata": {
        "id": "BeeVgC5L7qXU"
      }
    },
    {
      "cell_type": "markdown",
      "source": [
        "As maximum request in august month,This knowledge can inform strategic decision-making related to staffing, resource allocation, and inventory management. By aligning operations with the patterns of special requests, hotels can optimize service delivery and enhance guest satisfaction, ultimately leading to positive business impact."
      ],
      "metadata": {
        "id": "ZOm9r-Wa7qXV"
      }
    },
    {
      "cell_type": "markdown",
      "source": [
        "#### Chart - 15"
      ],
      "metadata": {
        "id": "hDiMWVShG0lp"
      }
    },
    {
      "cell_type": "code",
      "source": [
        "# Chart - 15 visualization code\n",
        "#Market Segment according the higest cancellation rate\n",
        "market_segment_df=df_hb[df_hb['is_canceled']==1]   # canceled=1\n",
        "market_segment_df\n",
        "market_segment_df=market_segment_df.groupby(['market_segment','hotel']).size().reset_index().rename(columns={0:'counts'})   # group by market segment and hotel\n",
        "\n",
        "market_segment_df\n"
      ],
      "metadata": {
        "id": "pE1cZ1gsG0mZ"
      },
      "execution_count": null,
      "outputs": []
    },
    {
      "cell_type": "code",
      "source": [
        "# Chart - 16 visualization code\n",
        "#set plotsizde and plot barchart\n",
        "plt.figure(figsize=(12, 6))\n",
        "\n",
        "# Filter the dataset for canceled bookings\n",
        "df_cancelled = df_hb[df_hb['is_canceled'] == 1]\n",
        "\n",
        "# Group the filtered data by market_segment and distribution_channel, calculate the cancellation rate\n",
        "grouped_cancel = df_cancelled.groupby(['market_segment', 'distribution_channel']).size().reset_index(name='count')\n",
        "\n",
        "# Plot the bar chart\n",
        "sns.barplot(x='market_segment', y='count', hue='distribution_channel', data=grouped_cancel,palette='Set2', edgecolor='black')\n",
        "\n",
        "# Set labels and title\n",
        "plt.xlabel('Market Segment')\n",
        "plt.ylabel('Cancellation Count')\n",
        "plt.title('Cancellation Count vs Market Segment by Distribution Channel')\n",
        "\n",
        "# Show the plot\n",
        "plt.show()\n"
      ],
      "metadata": {
        "id": "SH1d4LOBHYw1"
      },
      "execution_count": null,
      "outputs": []
    },
    {
      "cell_type": "markdown",
      "source": [
        "##### 1. Why did you pick the specific chart?"
      ],
      "metadata": {
        "id": "6lFZpt_pG0mc"
      }
    },
    {
      "cell_type": "markdown",
      "source": [
        "The specific chart chosen is a bar chart because it is suitable for visualizing and comparing the counts or frequencies of different categories within a categorical variable (in this case, the market segments) while also considering the segmentation by hotel type"
      ],
      "metadata": {
        "id": "1Cz5JV2vG0me"
      }
    },
    {
      "cell_type": "markdown",
      "source": [
        "##### 2. What is/are the insight(s) found from the chart?"
      ],
      "metadata": {
        "id": "ZETDEgsRG0mf"
      }
    },
    {
      "cell_type": "markdown",
      "source": [
        "we can see highest cancellation rate in online TA."
      ],
      "metadata": {
        "id": "HK-kFSU6G0mh"
      }
    },
    {
      "cell_type": "markdown",
      "source": [
        "##### 3. Will the gained insights help creating a positive business impact?\n",
        "Are there any insights that lead to negative growth? Justify with specific reason."
      ],
      "metadata": {
        "id": "v_bGVU7hG0mi"
      }
    },
    {
      "cell_type": "markdown",
      "source": [
        "In order to reduce the booking cancellations hotels need to set the refundable/ no refundable and deposit policies policies.\n"
      ],
      "metadata": {
        "id": "TgoJpnidG0mj"
      }
    },
    {
      "cell_type": "markdown",
      "source": [
        "#### Chart - 16"
      ],
      "metadata": {
        "id": "v_Ut-gRiI02t"
      }
    },
    {
      "cell_type": "code",
      "source": [
        "# Chart - 16 visualization code\n",
        "#ADR across different market segment\n",
        "Grupby=df_hb.groupby(['market_segment','hotel','is_canceled'])['adr'].mean().reset_index()   # group by\n",
        "\n",
        "# set plot size and plto barchart\n",
        "plt.figure(figsize=(18,6))\n",
        "sns.barplot(x='market_segment',y='adr',hue='hotel',palette='Set2', edgecolor='black',data=Grupby.sort_values(by='adr',ascending=False))\n",
        "plt.title('Adr across market segment')"
      ],
      "metadata": {
        "id": "gJs8NDuNI03L"
      },
      "execution_count": null,
      "outputs": []
    },
    {
      "cell_type": "markdown",
      "source": [
        "##### 1. Why did you pick the specific chart?"
      ],
      "metadata": {
        "id": "wz3mw0CNI03N"
      }
    },
    {
      "cell_type": "markdown",
      "source": [
        "A bar chart provides a clear and concise comparison of the ADR values for different market segments. Each market segment is represented by a bar, and the length of the bar corresponds to the average daily rate."
      ],
      "metadata": {
        "id": "q91Nn1PwI03O"
      }
    },
    {
      "cell_type": "markdown",
      "source": [
        "##### 2. What is/are the insight(s) found from the chart?"
      ],
      "metadata": {
        "id": "zRyTSjb_I03P"
      }
    },
    {
      "cell_type": "markdown",
      "source": [
        "'Direct' and 'Online TA' are contributing the most in both types of hotels."
      ],
      "metadata": {
        "id": "7NholYYDI03P"
      }
    },
    {
      "cell_type": "markdown",
      "source": [
        "##### 3. Will the gained insights help creating a positive business impact?\n",
        "Are there any insights that lead to negative growth? Justify with specific reason."
      ],
      "metadata": {
        "id": "fULiliRuI03Q"
      }
    },
    {
      "cell_type": "markdown",
      "source": [
        "Aviation segment should focus on increasing the bookings of 'City Hotel'."
      ],
      "metadata": {
        "id": "IzjRx6qzI03R"
      }
    },
    {
      "cell_type": "markdown",
      "source": [
        "#### Chart - 17"
      ],
      "metadata": {
        "id": "Y9OlParJJtnr"
      }
    },
    {
      "cell_type": "code",
      "source": [
        "# Chart - 17 visualization code\n",
        "#Optimal stay length in both types of hotels\n",
        "df_hb['total_stay'] = df_hb['stays_in_weekend_nights'] + df_hb['stays_in_week_nights']  #add some new columns\n",
        "stay = df_hb.groupby(['total_stay', 'hotel']).agg('count').reset_index()   # group by total stay and hotel\n",
        "stay = stay.iloc[:, :3]                                                   # take 1st 3 columns\n",
        "stay = stay.rename(columns={'is_canceled':'Number of stays'})    # rename the columns\n"
      ],
      "metadata": {
        "id": "xcaOkrR1JtoJ"
      },
      "execution_count": null,
      "outputs": []
    },
    {
      "cell_type": "code",
      "source": [
        "# set plot size and plot barchart\n",
        "plt.figure(figsize=(18,9))\n",
        "sns.barplot(x='total_stay',y='Number of stays',hue='hotel',data=stay,palette='Set2', edgecolor='black')\n",
        "\n",
        "#set labels\n",
        "plt.title('Optimal Stay Length in Both hotel types')\n",
        "plt.ylabel('count of stays')\n",
        "plt.xlabel('total_stay(days)')"
      ],
      "metadata": {
        "id": "BeS6I8M3KBxe"
      },
      "execution_count": null,
      "outputs": []
    },
    {
      "cell_type": "markdown",
      "source": [
        "##### 1. Why did you pick the specific chart?"
      ],
      "metadata": {
        "id": "6jZ1TLWPJtoK"
      }
    },
    {
      "cell_type": "markdown",
      "source": [
        "A bar chart allows for a clear and straightforward comparison of the count of stays across different total stay lengths. Each total stay length is represented by a bar, and the height of the bar corresponds to the count of stays"
      ],
      "metadata": {
        "id": "RB-HE6TTJtoL"
      }
    },
    {
      "cell_type": "markdown",
      "source": [
        "##### 2. What is/are the insight(s) found from the chart?"
      ],
      "metadata": {
        "id": "IO7IDCZMJtoM"
      }
    },
    {
      "cell_type": "markdown",
      "source": [
        "Optimal stay in both the type hotel is less than 7 days."
      ],
      "metadata": {
        "id": "W0kq-mFOJtoN"
      }
    },
    {
      "cell_type": "markdown",
      "source": [
        "##### 3. Will the gained insights help creating a positive business impact?\n",
        "Are there any insights that lead to negative growth? Justify with specific reason."
      ],
      "metadata": {
        "id": "HLJafzl6JtoN"
      }
    },
    {
      "cell_type": "markdown",
      "source": [
        "By analyzing the count of stays across different stay lengths, hotels can identify popular stay durations and adjust their pricing accordingly. This knowledge enables hotels to maximize revenue by offering competitive rates and attractive packages for the preferred stay lengths.Focusing solely on popular stay lengths may limit the flexibility of accommodating guests with different preferences."
      ],
      "metadata": {
        "id": "-7fPH3OwJtoO"
      }
    },
    {
      "cell_type": "markdown",
      "source": [
        "#### Chart - 18"
      ],
      "metadata": {
        "id": "Paau3aKaLjyJ"
      }
    },
    {
      "cell_type": "code",
      "source": [
        "# Chart - 18 visualization code\n",
        "df_hb.drop(df_hb[df_hb['adr'] > 5000].index, inplace = True)\n",
        "# Resizing plot\n",
        "plt.figure(figsize=(12,6))\n",
        "sns.scatterplot(x=df_hb['total_stay'],y=df_hb['adr'],color='green',alpha=0.6)\n",
        "plt.title('Relationship between  adr and total stay')\n"
      ],
      "metadata": {
        "id": "DOsYuRPeLjyL"
      },
      "execution_count": null,
      "outputs": []
    },
    {
      "cell_type": "markdown",
      "source": [
        "##### 1. Why did you pick the specific chart?"
      ],
      "metadata": {
        "id": "MlA4028SLjyN"
      }
    },
    {
      "cell_type": "markdown",
      "source": [
        "A scatter plot is well-suited for visualizing the relationship between two numeric variables. Each data point is represented as a dot on the plot, with the x-axis representing the total stay length and the y-axis representing the ADR."
      ],
      "metadata": {
        "id": "o0AYASzlLjyN"
      }
    },
    {
      "cell_type": "markdown",
      "source": [
        "##### 2. What is/are the insight(s) found from the chart?"
      ],
      "metadata": {
        "id": "EcOa62ktLjyO"
      }
    },
    {
      "cell_type": "markdown",
      "source": [
        "From above scatter we can say that as the stay increases adr is decreasing. Thus for longer stays customer can get good adr."
      ],
      "metadata": {
        "id": "Yo3hSHKILjyO"
      }
    },
    {
      "cell_type": "markdown",
      "source": [
        "##### 3. Will the gained insights help creating a positive business impact?\n",
        "Are there any insights that lead to negative growth? Justify with specific reason."
      ],
      "metadata": {
        "id": "xFcz1FvpLjyP"
      }
    },
    {
      "cell_type": "markdown",
      "source": [
        "This knowledge enables hotels to set competitive prices and package deals that align with guest preferences, ultimately maximizing revenue.By aligning pricing with stay length preferences, hotels can provide guests with fair and attractive rates. This contributes to guest satisfaction, positive reviews, and potential repeat business."
      ],
      "metadata": {
        "id": "DHpDRAeTLjyQ"
      }
    },
    {
      "cell_type": "markdown",
      "source": [
        "#### Chart - 19"
      ],
      "metadata": {
        "id": "W1e14M4lQwFJ"
      }
    },
    {
      "cell_type": "code",
      "source": [
        "# Chart - 19 visualization code\n",
        "#ADR relationship with total number of people\n",
        "df_hb['total_people'] = df_hb['adults'] + df_hb['babies'] + df_hb['children'] #add total people\n",
        "plt.figure(figsize=(20,8))\n",
        "df1=df_hb[(df_hb['total_people'] < 6)]\n",
        "\n",
        "sns.boxplot(x=df1['total_people'],y=df1['adr'])\n",
        "\n",
        "# set lables\n",
        "plt.title('ADR v/s Total Number of people')\n"
      ],
      "metadata": {
        "id": "T16HUJK-QwFL"
      },
      "execution_count": null,
      "outputs": []
    },
    {
      "cell_type": "markdown",
      "source": [
        "##### 1. Why did you pick the specific chart?"
      ],
      "metadata": {
        "id": "fWvHiGvcQwFM"
      }
    },
    {
      "cell_type": "markdown",
      "source": [
        " It provides information about the median, quartiles, and potential outliers within each group of total people. This allows for a clear understanding of the variability and spread of ADR values across different group sizes."
      ],
      "metadata": {
        "id": "J-qa0tLbQwFN"
      }
    },
    {
      "cell_type": "markdown",
      "source": [
        "##### 2. What is/are the insight(s) found from the chart?"
      ],
      "metadata": {
        "id": "342wqfv2QwFO"
      }
    },
    {
      "cell_type": "markdown",
      "source": [
        "As the total number of people increases adr also increases.Thus adr and total people are directly proportional to each other."
      ],
      "metadata": {
        "id": "65u8xWh0QwFO"
      }
    },
    {
      "cell_type": "markdown",
      "source": [
        "##### 3. Will the gained insights help creating a positive business impact?\n",
        "Are there any insights that lead to negative growth? Justify with specific reason."
      ],
      "metadata": {
        "id": "_pTkIOWhQwFP"
      }
    },
    {
      "cell_type": "markdown",
      "source": [
        "They can offer special rates or packages for different group sizes, such as discounted rates for families or group packages for larger parties. This customization enhances the value proposition and can attract a wider range of guests.Relying solely on the relationship between ADR and the total number of people may lead to unrealistic pricing. It's important to consider other factors such as seasonality, market demand, and competitive pricing."
      ],
      "metadata": {
        "id": "aWdB5GxJQwFQ"
      }
    },
    {
      "cell_type": "markdown",
      "source": [
        "#### Chart - 20"
      ],
      "metadata": {
        "id": "TcfeTXTQScRz"
      }
    },
    {
      "cell_type": "code",
      "source": [
        "# Chart - 20 visualization code\n",
        "\n",
        "# Group the data by market_segment and hotel, calculate the count\n",
        "grouped_hotel = df_hb.groupby(['market_segment', 'hotel']).size().reset_index(name='count')\n",
        "\n",
        "# Plot the bar chart\n",
        "plt.figure(figsize=(12, 6))\n",
        "sns.barplot(x='market_segment', y='count', hue='hotel', data=grouped_hotel,palette='Set2', edgecolor='black')\n",
        "\n",
        "# Set labels and title\n",
        "plt.xlabel('Market Segment')\n",
        "plt.ylabel('Count of Booking')\n",
        "plt.title('Hotel Type Chosen Based on Market Segment')\n",
        "\n",
        "# Show the plot\n",
        "plt.show()"
      ],
      "metadata": {
        "id": "KbhmiyROScR0"
      },
      "execution_count": null,
      "outputs": []
    },
    {
      "cell_type": "markdown",
      "source": [
        "##### 1. Why did you pick the specific chart?"
      ],
      "metadata": {
        "id": "4yBMSeDIScR1"
      }
    },
    {
      "cell_type": "markdown",
      "source": [
        " we want to compare the hotel types (city hotel and resort hotel) within each market segment. The bar plot effectively represents the counts or frequencies of hotel types for each market segment, allowing for easy visual comparison."
      ],
      "metadata": {
        "id": "6Ru18trNScR2"
      }
    },
    {
      "cell_type": "markdown",
      "source": [
        "##### 2. What is/are the insight(s) found from the chart?"
      ],
      "metadata": {
        "id": "QzEA9M5BScR3"
      }
    },
    {
      "cell_type": "markdown",
      "source": [
        "we can observe that in the direct market segment, resorts are preferred, while in other types of segments, city hotels are the preferred choice. Specifically, the online travel agency (OTA) segment shows a higher preference for city hotels. This insight suggests that customers booking directly may lean towards resorts"
      ],
      "metadata": {
        "id": "q_eTus1qScR3"
      }
    },
    {
      "cell_type": "markdown",
      "source": [
        "##### 3. Will the gained insights help creating a positive business impact?\n",
        "Are there any insights that lead to negative growth? Justify with specific reason."
      ],
      "metadata": {
        "id": "6oEsYhNpScR4"
      }
    },
    {
      "cell_type": "markdown",
      "source": [
        " we can increase booking in city hotel by creating strong association with online travel agencies.we can offer competitive rates and packages for resorts in the direct market segment"
      ],
      "metadata": {
        "id": "Sffj3pAqScR4"
      }
    },
    {
      "cell_type": "markdown",
      "source": [
        "#### Chart - 21"
      ],
      "metadata": {
        "id": "9LdiRuxubl0o"
      }
    },
    {
      "cell_type": "code",
      "source": [
        "# Chart - 21 visualization code\n",
        "# Select the variables for bivariate analysis\n",
        "variable1 = 'market_segment'\n",
        "variable2 = 'adr'\n",
        "\n",
        "# Filter the dataset if necessary\n",
        "# df_filtered = df_hb[condition]\n",
        "\n",
        "# Plot a box plot\n",
        "plt.figure(figsize=(10, 6))\n",
        "sns.boxplot(data=df_hb, x=variable1, y=variable2)\n",
        "plt.title('Box Plot of {} by {}'.format(variable2, variable1))\n",
        "plt.xlabel(variable1)\n",
        "plt.ylabel(variable2)\n",
        "plt.xticks(rotation=45)\n",
        "plt.show()"
      ],
      "metadata": {
        "id": "SpBdWhH_bl0p"
      },
      "execution_count": null,
      "outputs": []
    },
    {
      "cell_type": "markdown",
      "source": [
        "##### 1. Why did you pick the specific chart?"
      ],
      "metadata": {
        "id": "vfLTrxy5bl0r"
      }
    },
    {
      "cell_type": "markdown",
      "source": [
        "It provides information about the central tendency (median), spread (interquartile range), and potential outliers within each category."
      ],
      "metadata": {
        "id": "teLGU7Jwbl0r"
      }
    },
    {
      "cell_type": "markdown",
      "source": [
        "##### 2. What is/are the insight(s) found from the chart?"
      ],
      "metadata": {
        "id": "4J5-sEk6bl0s"
      }
    },
    {
      "cell_type": "markdown",
      "source": [
        "Market segment direct and online TA has highest median. compelementry has lowest median."
      ],
      "metadata": {
        "id": "13DCdevTbl0t"
      }
    },
    {
      "cell_type": "markdown",
      "source": [
        "##### 3. Will the gained insights help creating a positive business impact?\n",
        "Are there any insights that lead to negative growth? Justify with specific reason."
      ],
      "metadata": {
        "id": "ZROwGpWjbl0u"
      }
    },
    {
      "cell_type": "markdown",
      "source": [
        " we can help to allocate resources and promotional efforts to attract customers from these two segments.lowest median value may indicate a lower potential for revenue generation from this segment."
      ],
      "metadata": {
        "id": "L3XK6MvKbl0u"
      }
    },
    {
      "cell_type": "markdown",
      "source": [
        "#### Chart - 22 - Correlation Heatmap"
      ],
      "metadata": {
        "id": "NC_X3p0fY2L0"
      }
    },
    {
      "cell_type": "code",
      "source": [
        "# Correlation Heatmap visualization code\n",
        "plt.figure(figsize=(18,10))\n",
        "sns.heatmap(df_hb.corr(),annot=True,cmap='coolwarm', linewidths=0.5, linecolor='black')\n",
        "plt.title('Co-relation of the columns')"
      ],
      "metadata": {
        "id": "xyC9zolEZNRQ"
      },
      "execution_count": null,
      "outputs": []
    },
    {
      "cell_type": "markdown",
      "source": [
        "##### 1. Why did you pick the specific chart?"
      ],
      "metadata": {
        "id": "UV0SzAkaZNRQ"
      }
    },
    {
      "cell_type": "markdown",
      "source": [
        "it provides a color-coded representation of the correlation values, allowing for easy identification of patterns and relationships among the columns.it has large amount of information into a compact visual display."
      ],
      "metadata": {
        "id": "DVPuT8LYZNRQ"
      }
    },
    {
      "cell_type": "markdown",
      "source": [
        "##### 2. What is/are the insight(s) found from the chart?"
      ],
      "metadata": {
        "id": "YPEH6qLeZNRQ"
      }
    },
    {
      "cell_type": "markdown",
      "source": [
        "\n",
        "\n",
        "1.   lead_time and total_stay is positively corelated.That means more is the stay of cutsomer more will be the lead time.\n",
        "2.   adults,childrens and babies are corelated to each other. That means more the people more will be adr.\n",
        "3.   Total stays and total week nights are highly correlated. which means many people satyed at week nights.\n",
        "4.   is repeated guest and lead time has negative correlation as lead time increases is repeated guest increases.\n",
        "\n"
      ],
      "metadata": {
        "id": "bfSqtnDqZNRR"
      }
    },
    {
      "cell_type": "markdown",
      "source": [
        "#### Chart - 23 - Pair Plot"
      ],
      "metadata": {
        "id": "q29F0dvdveiT"
      }
    },
    {
      "cell_type": "code",
      "source": [
        "# Pair Plot visualization code\n",
        "# Create the pair plot\n",
        "sns.pairplot(df_hb)\n",
        "\n",
        "# Display the plot\n",
        "plt.show()"
      ],
      "metadata": {
        "id": "o58-TEIhveiU"
      },
      "execution_count": null,
      "outputs": []
    },
    {
      "cell_type": "markdown",
      "source": [
        "##### 1. Why did you pick the specific chart?"
      ],
      "metadata": {
        "id": "EXh0U9oCveiU"
      }
    },
    {
      "cell_type": "markdown",
      "source": [
        "The pair plot enables us to visualize the relationships between multiple variables simultaneously. It displays scatter plots for each pair of variables and histograms on the diagonal, allowing us to observe both the individual distributions and the pairwise associations."
      ],
      "metadata": {
        "id": "eMmPjTByveiU"
      }
    },
    {
      "cell_type": "markdown",
      "source": [
        "##### 2. What is/are the insight(s) found from the chart?"
      ],
      "metadata": {
        "id": "22aHeOlLveiV"
      }
    },
    {
      "cell_type": "markdown",
      "source": [
        "1. lead time is maximum upto 10 days in stays in weekends night.\n",
        "2. For both city and resort hotels, Nov to Jan have cheaper average daily rates.\n",
        "3. August is the most occupied month.\n",
        "4. Majority of the bookings don't have a deposit"
      ],
      "metadata": {
        "id": "uPQ8RGwHveiV"
      }
    },
    {
      "cell_type": "markdown",
      "source": [
        "## **5. Solution to Business Objective**"
      ],
      "metadata": {
        "id": "JcMwzZxoAimU"
      }
    },
    {
      "cell_type": "markdown",
      "source": [
        "#### What do you suggest the client to achieve Business Objective ?\n",
        "Explain Briefly."
      ],
      "metadata": {
        "id": "8G2x9gOozGDZ"
      }
    },
    {
      "cell_type": "markdown",
      "source": [
        "- The city hotel has the highest number of bookings, indicating the need to allocate a significant portion of the targeting funds to promote and enhance the city hotel's performance.\n",
        "- The high rate of cancellations may be attributed to the hotel's high no deposit policies. Addressing this issue and implementing more flexible deposit policies could help reduce cancellations.\n",
        "- Targeting marketing efforts towards the months between May and August, which are peak months due to the summer period, can yield higher booking rates and revenue.\n",
        "- With the majority of guests coming from Western Europe, it is essential to allocate a significant portion of the budget to target and attract guests from this region, as they contribute significantly to the hotel's business.\n",
        "- Since there is a lack of repeated guests, focusing on advertising and initiatives that encourage guests to return can help increase the number of repeat bookings and enhance guest loyalty.\n",
        "- Set non-refundable rates, collect deposits, and implement stricter cancellation policies.\n",
        "- Encourage direct bookings by offering special discounts.\n",
        "- Monitor and analyze cancellations by market segment and distribution channels.\n",
        "- Take proactive measures to address the reasons behind cancellations.\n",
        "- Optimize policies and operations to improve guest satisfaction and business impact.\n"
      ],
      "metadata": {
        "id": "pASKb0qOza21"
      }
    },
    {
      "cell_type": "markdown",
      "source": [
        "# **Conclusion**"
      ],
      "metadata": {
        "id": "gCX9965dhzqZ"
      }
    },
    {
      "cell_type": "markdown",
      "source": [
        "- The majority of bookings are for city hotels, indicating a higher demand for this type of accommodation.\n",
        "- Hotels with no deposit policies experience higher rates of cancellations, emphasizing the need for stricter deposit requirements.\n",
        "- Targeting the months between May and August, which are peak months during the summer period, can maximize bookings and revenue.\n",
        "- The majority of guests come from Western Europe countries, making it a valuable market segment to focus on for attracting more customers.\n",
        "- With a limited number of repeated guests, the focus should be on implementing strategies to retain customers and encourage repeat visits.\n",
        "- For both city and resort hotels, Nov to Jan have cheaper average daily rates.\n",
        "- City hotels have the highest cancellation rates, this can be verified by the fact that city hotels have higher booking rate than resort hotels."
      ],
      "metadata": {
        "id": "Fjb1IsQkh3yE"
      }
    },
    {
      "cell_type": "markdown",
      "source": [
        "### ***Hurrah! You have successfully completed your EDA Capstone Project !!!***"
      ],
      "metadata": {
        "id": "gIfDvo9L0UH2"
      }
    }
  ]
}